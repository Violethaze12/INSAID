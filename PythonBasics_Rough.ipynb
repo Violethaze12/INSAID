{
 "cells": [
  {
   "cell_type": "code",
   "execution_count": 1,
   "id": "99823c01",
   "metadata": {},
   "outputs": [],
   "source": [
    "import keyword"
   ]
  },
  {
   "cell_type": "code",
   "execution_count": 3,
   "id": "0bd71be9",
   "metadata": {},
   "outputs": [
    {
     "name": "stdout",
     "output_type": "stream",
     "text": [
      "['False', 'None', 'True', 'and', 'as', 'assert', 'async', 'await', 'break', 'class', 'continue', 'def', 'del', 'elif', 'else', 'except', 'finally', 'for', 'from', 'global', 'if', 'import', 'in', 'is', 'lambda', 'nonlocal', 'not', 'or', 'pass', 'raise', 'return', 'try', 'while', 'with', 'yield']\n"
     ]
    }
   ],
   "source": [
    "print(keyword.kwlist)"
   ]
  },
  {
   "cell_type": "code",
   "execution_count": 7,
   "id": "38f11a1f",
   "metadata": {},
   "outputs": [
    {
     "name": "stdout",
     "output_type": "stream",
     "text": [
      "35\n"
     ]
    }
   ],
   "source": [
    "print(len(keyword.kwlist))"
   ]
  },
  {
   "cell_type": "code",
   "execution_count": 9,
   "id": "6b25ec53",
   "metadata": {},
   "outputs": [
    {
     "name": "stdout",
     "output_type": "stream",
     "text": [
      "36\n"
     ]
    }
   ],
   "source": [
    "print(len(keyword.kwlist)+1)"
   ]
  },
  {
   "cell_type": "code",
   "execution_count": 12,
   "id": "1ea7c557",
   "metadata": {},
   "outputs": [
    {
     "name": "stdout",
     "output_type": "stream",
     "text": [
      "2\n"
     ]
    }
   ],
   "source": [
    "test=1\n",
    "print(test*2)"
   ]
  },
  {
   "cell_type": "code",
   "execution_count": null,
   "id": "73bfcad3",
   "metadata": {},
   "outputs": [],
   "source": [
    "#comment0 singleline\n",
    "'''comment1 multiline'''\n",
    "\"\"\"comment2 multiline\"\"\""
   ]
  },
  {
   "cell_type": "code",
   "execution_count": 25,
   "id": "a5a0275f",
   "metadata": {},
   "outputs": [
    {
     "name": "stdout",
     "output_type": "stream",
     "text": [
      "144\n"
     ]
    }
   ],
   "source": [
    "def square(num):\n",
    "    \"\"\" This function is for squaring\n",
    "    Print docstring using this __doc__ attribute of function\"\"\"\n",
    "    return num*num\n",
    "\n",
    "print(square(12))    "
   ]
  },
  {
   "cell_type": "code",
   "execution_count": 29,
   "id": "7aeb079e",
   "metadata": {},
   "outputs": [
    {
     "name": "stdout",
     "output_type": "stream",
     "text": [
      " This function is for squaring\n",
      "    Print docstring using this _docstring_ attribute of function\n"
     ]
    }
   ],
   "source": [
    "print(square.__doc__)"
   ]
  },
  {
   "cell_type": "code",
   "execution_count": 31,
   "id": "da337e20",
   "metadata": {},
   "outputs": [
    {
     "name": "stdout",
     "output_type": "stream",
     "text": [
      "1\n",
      "2\n",
      "3\n",
      "Back to original indentation\n"
     ]
    }
   ],
   "source": [
    "for i in range(1,4):\n",
    "    print(i)\n",
    "print('Back to original indentation')"
   ]
  },
  {
   "cell_type": "code",
   "execution_count": 1,
   "id": "b3cde510",
   "metadata": {},
   "outputs": [
    {
     "name": "stdout",
     "output_type": "stream",
     "text": [
      "150\n",
      "150\n"
     ]
    }
   ],
   "source": [
    "n1= 10+20\\\n",
    "    +30+\\\n",
    "    40+\\\n",
    "    50\n",
    "\n",
    "n2= (10+20\n",
    "    +30+\n",
    "    40+\n",
    "    50)\n",
    "\n",
    "print(n1)\n",
    "print(n2)"
   ]
  },
  {
   "cell_type": "code",
   "execution_count": 2,
   "id": "a17732f3",
   "metadata": {},
   "outputs": [],
   "source": [
    "import keyword"
   ]
  },
  {
   "cell_type": "code",
   "execution_count": 6,
   "id": "781c8800",
   "metadata": {},
   "outputs": [
    {
     "name": "stdout",
     "output_type": "stream",
     "text": [
      "['False', 'None', 'True', 'and', 'as', 'assert', 'async', 'await', 'break', 'class', 'continue', 'def', 'del', 'elif', 'else', 'except', 'finally', 'for', 'from', 'global', 'if', 'import', 'in', 'is', 'lambda', 'nonlocal', 'not', 'or', 'pass', 'raise', 'return', 'try', 'while', 'with', 'yield']\n"
     ]
    }
   ],
   "source": [
    "print(keyword.kwlist)"
   ]
  },
  {
   "cell_type": "code",
   "execution_count": null,
   "id": "e24f6406",
   "metadata": {},
   "outputs": [],
   "source": []
  },
  {
   "cell_type": "code",
   "execution_count": 4,
   "id": "7d56c088",
   "metadata": {},
   "outputs": [
    {
     "name": "stdout",
     "output_type": "stream",
     "text": [
      "35\n"
     ]
    }
   ],
   "source": [
    "print(len(keyword.kwlist))"
   ]
  },
  {
   "cell_type": "code",
   "execution_count": 17,
   "id": "8c4ce407",
   "metadata": {},
   "outputs": [
    {
     "name": "stdout",
     "output_type": "stream",
     "text": [
      "81\n"
     ]
    }
   ],
   "source": [
    "def square(num):\n",
    "    \"\"\"Function to find square of given number\n",
    "    print the docstring using __doc__ \n",
    "    \"\"\"\n",
    "    return num*num;\n",
    "print(square(9))"
   ]
  },
  {
   "cell_type": "code",
   "execution_count": 16,
   "id": "d9a0d960",
   "metadata": {},
   "outputs": [
    {
     "name": "stdout",
     "output_type": "stream",
     "text": [
      "Function to find square of given number\n",
      "    print the docstring using __doc__ \n",
      "    \n"
     ]
    }
   ],
   "source": [
    "print(square.__doc__)"
   ]
  },
  {
   "cell_type": "code",
   "execution_count": 20,
   "id": "bbbe2253",
   "metadata": {},
   "outputs": [
    {
     "name": "stdout",
     "output_type": "stream",
     "text": [
      "(20+10j) is a type of  <class 'complex'>\n"
     ]
    }
   ],
   "source": [
    "data1 =10j + 20\n",
    "print(data1,'is a type of ',type(data1))\n",
    "\n"
   ]
  },
  {
   "cell_type": "code",
   "execution_count": 23,
   "id": "4a9d9beb",
   "metadata": {},
   "outputs": [
    {
     "name": "stdout",
     "output_type": "stream",
     "text": [
      "Is  (20+10j) a an object of int class? False\n"
     ]
    }
   ],
   "source": [
    "print('Is ',data1,'a an object of int class?',isinstance(data1,int))"
   ]
  },
  {
   "cell_type": "code",
   "execution_count": 39,
   "id": "fdb08117",
   "metadata": {},
   "outputs": [
    {
     "name": "stdout",
     "output_type": "stream",
     "text": [
      " is Onkar Kotpalliwar\n"
     ]
    }
   ],
   "source": [
    "string1=\"\"\"My name is Onkar Kotpalliwar.\n",
    "0123456789012345678901234567890\"\"\"\n",
    "a=4\n",
    "b=11\n",
    "print(string1[b-a:28])"
   ]
  },
  {
   "cell_type": "code",
   "execution_count": 47,
   "id": "1c6bf149",
   "metadata": {},
   "outputs": [
    {
     "name": "stdout",
     "output_type": "stream",
     "text": [
      "{1: 'value1', 2: 22, 3: 33}\n"
     ]
    }
   ],
   "source": [
    "dict={1:\"value1\", 2:22, 3:33}\n",
    "print(dict)"
   ]
  },
  {
   "cell_type": "code",
   "execution_count": 49,
   "id": "f2c5f1df",
   "metadata": {},
   "outputs": [
    {
     "data": {
      "text/plain": [
       "5"
      ]
     },
     "execution_count": 49,
     "metadata": {},
     "output_type": "execute_result"
    }
   ],
   "source": [
    "int(5.8)"
   ]
  },
  {
   "cell_type": "code",
   "execution_count": 56,
   "id": "b95ee2c1",
   "metadata": {},
   "outputs": [
    {
     "ename": "SyntaxError",
     "evalue": "positional argument follows keyword argument (<ipython-input-56-0c1499cb7bc4>, line 1)",
     "output_type": "error",
     "traceback": [
      "\u001b[1;36m  File \u001b[1;32m\"<ipython-input-56-0c1499cb7bc4>\"\u001b[1;36m, line \u001b[1;32m1\u001b[0m\n\u001b[1;33m    print('Welcome {0}, to the world of {1}. We are learning {Subject}. This is {3} line.'.format('Suchit', 'Data Science', Subject='Python', 'test'))\u001b[0m\n\u001b[1;37m                                                                                                                                              ^\u001b[0m\n\u001b[1;31mSyntaxError\u001b[0m\u001b[1;31m:\u001b[0m positional argument follows keyword argument\n"
     ]
    }
   ],
   "source": [
    "print('Welcome {0}, to the world of {1}. We are learning {Subject}. This is {3} line.'.format('Suchit', 'Data Science', 'test'))"
   ]
  },
  {
   "cell_type": "code",
   "execution_count": 1,
   "id": "2d19d21b",
   "metadata": {},
   "outputs": [
    {
     "name": "stdout",
     "output_type": "stream",
     "text": [
      "Enter the number of students :22\n",
      "The number of students are:  22\n",
      "The type of variable is : <class 'int'>\n"
     ]
    }
   ],
   "source": [
    "userin=int(input(\"Enter the number of students :\"))\n",
    "print(\"The number of students are: \", userin)\n",
    "print('The type of variable is :', type(userin))"
   ]
  }
 ],
 "metadata": {
  "kernelspec": {
   "display_name": "Python 3",
   "language": "python",
   "name": "python3"
  },
  "language_info": {
   "codemirror_mode": {
    "name": "ipython",
    "version": 3
   },
   "file_extension": ".py",
   "mimetype": "text/x-python",
   "name": "python",
   "nbconvert_exporter": "python",
   "pygments_lexer": "ipython3",
   "version": "3.8.8"
  }
 },
 "nbformat": 4,
 "nbformat_minor": 5
}
